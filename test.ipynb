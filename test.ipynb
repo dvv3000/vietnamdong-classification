{
 "cells": [],
 "metadata": {
  "interpreter": {
   "hash": "439a4a65f8220997985820a8da139527bf85fee5dfb1dd4c3c72bd937f9b027b"
  },
  "kernelspec": {
   "display_name": "Python 3.8.13 ('money-classify')",
   "language": "python",
   "name": "python3"
  },
  "language_info": {
   "codemirror_mode": {
    "name": "ipython",
    "version": 3
   },
   "file_extension": ".py",
   "mimetype": "text/x-python",
   "name": "python",
   "nbconvert_exporter": "python",
   "pygments_lexer": "ipython3",
   "version": "3.8.13"
  },
  "orig_nbformat": 4
 },
 "nbformat": 4,
 "nbformat_minor": 2
}
